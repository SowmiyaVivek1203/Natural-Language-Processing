{
 "cells": [
  {
   "cell_type": "code",
   "execution_count": 1,
   "id": "fd4ad4b6",
   "metadata": {},
   "outputs": [],
   "source": [
    "import nltk"
   ]
  },
  {
   "cell_type": "code",
   "execution_count": null,
   "id": "176bf0ee",
   "metadata": {},
   "outputs": [
    {
     "name": "stdout",
     "output_type": "stream",
     "text": [
      "showing info https://raw.githubusercontent.com/nltk/nltk_data/gh-pages/index.xml\n"
     ]
    }
   ],
   "source": [
    "nltk.download()"
   ]
  },
  {
   "cell_type": "code",
   "execution_count": null,
   "id": "59a6fb1d",
   "metadata": {},
   "outputs": [],
   "source": [
    "paragraph = \"\"Avul Pakir Jainulabdeen Abdul Kalam was born to Jainulabdeen, a boat owner and Imam, and Ashiamma, a housewife. Kalam had four brothers and a sister, all elder to him.\n",
    "Although Kalam’s ancestors had been wealthy traders, the family had descended into difficult times and Kalam used to sell newspapers as a child to add-on to his family’s modest income.\n",
    "Kalam studied at a school in Ramanathapuram and acquired a degree in Physics from Saint Joseph’s College, Tiruchirappalli. In 1955, he went to the Madras Institute of Technology to pursue aerospace engineering. His dream of becoming a fighter pilot was thwarted when he missed the qualifier by a narrow margin. He was ranked ninth but only 8 positions were available with the IAF.\n",
    "After that, he got a job as a scientist at the Aeronautical Development Establishment of the Defence Research and Development Organisation (DRDO). He also worked under eminent scientist Vikram Sarabhai.\n",
    "Kalam was transferred to the Indian Space Research Organisation (ISRO) in 1969. At ISRO, he was the Project Director of the satellite launch vehicle (SLV) that successfully deployed the satellite Rohini into orbit in 1980. It was India’s first SLV.\n",
    "Kalam also worked to develop the Polar Satellite Launch Vehicle (PSLV).\n",
    "He was also the director of two projects, Project Valiant and Project Devil for developing ballistic missiles from the SLV technology. His research and leadership led him to the directorship of an advanced missile development programme.\n",
    "When R Venkataraman was the Defence Minister, Kalam was appointed the chief executive of the Integrated Guided Missile Development Programme that was a project aimed at developing a fleet of missiles.\n",
    "He was known as the ‘Missile Man of India’ for his work in the development of ballistic missile technology.\n",
    "From 1992 to 1999, Kalam was the Chief Scientific Adviser to the Prime Minister and the Secretary of the DRDO. Kalam was the Chief Project Coordinator during the Pokhran II tests. During this time, Kalam became India’s best-known scientist.\n",
    "In 2002, Abdul Kalam was elected the 11th President of India. He had won by a huge margin. He was the first scientist to become India’s President and incidentally the first bachelor too.\n",
    "Kalam’s term as the president which lasted the full term till 2007 was beneficial for the office of the president itself. He came to be called the People’s President. His popularity soared among the people, especially school children. He visited many parts of the country and his speeches became popular for their motivational content.\n",
    "Despite pressure from the people to have him stand for a second term, he decided not to contest.\n",
    "After the presidency, Kalam became a visiting professor at the IIM Ahmedabad, IIM Shillong, IIM Indore, the Indian Institute of Science, Bangalore, Anna University, etc.\n",
    "Abdul Kalam died of a cardiac arrest while giving a lecture at the IIM Shillong on 27 July 2015. There was widespread grief expressed at his passing away with the government of India declaring a 7-day state mourning. The governments of various other countries as well as the United Nations expressed their grief.\n",
    "He was laid to rest with full state honours at his native Rameswaram.\n",
    "Abdul Kalam was a man of integrity who was known for his honesty. He left no personal wealth after his death barring a few personal possessions which included his books, laptop, etc.\n",
    "He was knowledgeable in the teachings of various religions and had become a symbol of inter-faith dialogue.\"\"\n"
   ]
  },
  {
   "cell_type": "code",
   "execution_count": null,
   "id": "d2cdec09",
   "metadata": {},
   "outputs": [],
   "source": [
    "# Tokenizing sentences"
   ]
  },
  {
   "cell_type": "code",
   "execution_count": null,
   "id": "1548a89a",
   "metadata": {},
   "outputs": [],
   "source": [
    "sentences= nltk.sent_tokenize(paragraph)"
   ]
  },
  {
   "cell_type": "code",
   "execution_count": null,
   "id": "9667c4e0",
   "metadata": {},
   "outputs": [],
   "source": [
    "# Tokenizing words"
   ]
  },
  {
   "cell_type": "code",
   "execution_count": null,
   "id": "99bcd1f5",
   "metadata": {},
   "outputs": [],
   "source": [
    "words= nltk.word_tokenize(paragraph)"
   ]
  },
  {
   "cell_type": "code",
   "execution_count": null,
   "id": "45bce287",
   "metadata": {},
   "outputs": [],
   "source": []
  }
 ],
 "metadata": {
  "kernelspec": {
   "display_name": "Python 3 (ipykernel)",
   "language": "python",
   "name": "python3"
  },
  "language_info": {
   "codemirror_mode": {
    "name": "ipython",
    "version": 3
   },
   "file_extension": ".py",
   "mimetype": "text/x-python",
   "name": "python",
   "nbconvert_exporter": "python",
   "pygments_lexer": "ipython3",
   "version": "3.9.12"
  }
 },
 "nbformat": 4,
 "nbformat_minor": 5
}
